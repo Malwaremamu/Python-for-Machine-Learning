{
 "cells": [
  {
   "cell_type": "code",
   "execution_count": 50,
   "metadata": {},
   "outputs": [],
   "source": [
    "import numpy as np\n",
    "import pandas as pd\n",
    "Mnist_train= pd.read_csv('MNIST_training.csv')\n",
    "Mnist_test = pd.read_csv('MNIST_test.csv')\n",
    "\n",
    "test_data = Mnist_test.iloc[:,1:] #Test Data without Label\n",
    "train_data = Mnist_train.iloc[:,1:] #Train Data without Label\n",
    "train_label = Mnist_train.iloc[:,0] #Train Data Label\n",
    "test_label = Mnist_test.iloc[:,0] #Test Data Label\n",
    "\n",
    "#Normalisation of Data\n",
    "test_data = test_data / 255\n",
    "train_data = train_data / 255\n",
    "\n",
    "#Adding column of ones in first olumn\n",
    "test_data.insert(0,'Ones',1)\n",
    "train_data.insert(0,'Ones',1)\n",
    "\n",
    "#Convert type to array\n",
    "X = np.array(train_data)\n",
    "Y = np.array(train_label)\n",
    "test_label = np.array(test_label)\n",
    "test_data = np.array(test_data)\n",
    "\n",
    "X_tran = X.T #Transpose of X\n",
    "A = np.matmul(X_tran, X) #X'X\n",
    "A_inv = np.linalg.pinv(A) #(A)-'\n",
    "B = np.matmul(X_tran, Y) #X'Y\n",
    "\n",
    "coeff = np.matmul(A_inv, B) #Optimal value of b\n",
    "y_pred = np.matmul(test_data, coeff) #Y = Xb"
   ]
  },
  {
   "cell_type": "code",
   "execution_count": 55,
   "metadata": {},
   "outputs": [
    {
     "data": {
      "text/plain": [
       "100.0"
      ]
     },
     "execution_count": 55,
     "metadata": {},
     "output_type": "execute_result"
    }
   ],
   "source": [
    "#Calculation of Accuracy with a threshold value of 0.5\n",
    "threshold = sum([y_pred > 0.5])\n",
    "#threshold\n",
    "accuracy_linear = sum(threshold == test_label)\n",
    "accuracyLinear_percentage = ((float(accuracy_linear) / len(test_label) * 100))\n",
    "accuracyLinear_percentage"
   ]
  },
  {
   "cell_type": "code",
   "execution_count": null,
   "metadata": {
    "collapsed": true
   },
   "outputs": [],
   "source": [
    "#Gradient Descent\n",
    "def gradient_descent(traindata, label, coeff):\n",
    "    descent = np.dot(np.dot(traindata.transpose(), traindata), coeff) - np.dot(traindata.transpose(), label) #Descent Formula - First Derivate\n",
    "    return descent\n",
    "coeff_descent = np.zeros(train_data.shape[1]) #Initial Coefficients to Zero\n",
    "\n",
    "#OlS cost function to minimise the error\n",
    "def cost_function(traindata, label, coeff):\n",
    "    cost = np.sum((np.dot(traindata, coeff) - np.array(label))**2) #Optimization Formula\n",
    "    return cost\n",
    "cost_value=[]\n",
    "learning_rate = 1e-4  #0.00001 for getting 100% accuracy\n",
    "\n",
    "#Updating the Weights\n",
    "for i in range(0, 100):\n",
    "    coeff_descent = coeff_descent - learning_rate * gradient_descent(X, Y, coeff_descent)\n",
    "    cost = cost_function(X, Y, coeff_descent)\n",
    "    cost_value.append(cost)"
   ]
  },
  {
   "cell_type": "code",
   "execution_count": null,
   "metadata": {
    "collapsed": true
   },
   "outputs": [],
   "source": [
    "import matplotlib.pyplot as plt\n",
    "plt.plot(cost_value)\n",
    "plt.show()\n",
    "\n",
    "y_predict = np.matmul(test_data, coeff_descent) \n",
    "threshold_descent = sum([y_predict>0.5]) #Threshold value of 0.5\n",
    "\n",
    "accuracy_descent = sum(threshold_descent == test_label)\n",
    "accuracyDescent_percentage = ((float(accuracy_descent)/len(test_label)*100))\n",
    "print accuracyDescent_percentage\n",
    "\n",
    "\n",
    "print(sum(abs(coeff_descent - coeff)))\n"
   ]
  },
  {
   "cell_type": "code",
   "execution_count": null,
   "metadata": {
    "collapsed": true
   },
   "outputs": [],
   "source": []
  }
 ],
 "metadata": {
  "kernelspec": {
   "display_name": "Python 2",
   "language": "python",
   "name": "python2"
  },
  "language_info": {
   "codemirror_mode": {
    "name": "ipython",
    "version": 2
   },
   "file_extension": ".py",
   "mimetype": "text/x-python",
   "name": "python",
   "nbconvert_exporter": "python",
   "pygments_lexer": "ipython2",
   "version": "2.7.14"
  }
 },
 "nbformat": 4,
 "nbformat_minor": 2
}
