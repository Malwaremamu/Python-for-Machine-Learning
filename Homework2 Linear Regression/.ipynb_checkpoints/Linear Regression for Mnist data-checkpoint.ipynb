{
 "cells": [
  {
   "cell_type": "code",
   "execution_count": 45,
   "metadata": {},
   "outputs": [],
   "source": [
    "import numpy as np\n",
    "import pandas as pd\n",
    "Mnist_train= pd.read_csv('MNIST_training.csv')\n",
    "Mnist_test = pd.read_csv('MNIST_test.csv')\n",
    "\n",
    "test_data = Mnist_test.iloc[:,1:] #Test Data without Label\n",
    "train_data = Mnist_train.iloc[:,1:] #Train Data without Label\n",
    "train_label = Mnist_train.iloc[:,0] #Train Data Label\n",
    "test_label = Mnist_test.iloc[:,0] #Test Data Label\n",
    "\n",
    "#Normalisation of Data\n",
    "test_data = test_data / 255\n",
    "train_data = train_data / 255\n",
    "\n",
    "#Adding column of ones in first olumn\n",
    "test_data.insert(0,'Ones',1)\n",
    "train_data.insert(0,'Ones',1)\n",
    "\n",
    "#Convert type to array\n",
    "X = np.array(train_data)\n",
    "Y = np.array(train_label)\n",
    "test_label = np.array(test_label)\n",
    "test_data = np.array(test_data)\n",
    "\n",
    "X_tran = X.T #Transpose of X\n",
    "A = np.matmul(X_tran, X) #X'X\n",
    "A_inv = np.linalg.pinv(A) #(A)-'\n",
    "B = np.matmul(X_tran, Y) #X'Y\n",
    "\n",
    "b_optimal = np.matmul(A_inv, B) #Optimal value of b\n",
    "y_pred = np.matmul(test_data, b_optimal) #Y = Xb"
   ]
  },
  {
   "cell_type": "code",
   "execution_count": 35,
   "metadata": {},
   "outputs": [
    {
     "data": {
      "text/plain": [
       "100.0"
      ]
     },
     "execution_count": 35,
     "metadata": {},
     "output_type": "execute_result"
    }
   ],
   "source": [
    "#Calculation of Accuracy with a threshold value of 0.5\n",
    "class1 = sum([y_pred > 0.5])\n",
    "class1\n",
    "accuracy = sum(class1 == test_label)\n",
    "accuracy_percentage = ((float(accuracy) / len(test_label) * 100))\n",
    "accuracy_percentage"
   ]
  },
  {
   "cell_type": "code",
   "execution_count": 47,
   "metadata": {
    "collapsed": true
   },
   "outputs": [],
   "source": [
    "#Gradient Descent\n",
    "def gradient_descent(traindata, label, coeff):\n",
    "    descent = np.dot(np.dot(traindata.transpose(), traindata), coeff) - np.dot(traindata.transpose(), label)\n",
    "    return descent\n",
    "b_est = np.zeros(train_data.shape[1]) #Initial Coefficients to Zero\n",
    "b_est\n",
    "'''OLS cost function'''\n",
    "def cost_function(traindata, label, coeff):\n",
    "    cost = np.sum((np.dot(traindata, coeff) - np.array(label))**2)\n",
    "    return cost\n",
    "cost_value=[]\n",
    "learning_rate = 1e-4  #1e-9 for un normialized data *******\n",
    "train_data.shape\n",
    "for i in range(0, 100):\n",
    "    b_est = b_est - learning_rate * gradient_descent(X, Y, b_est)\n",
    "    cost = cost_function(X, Y, b_est)\n",
    "    cost_value.append(cost)"
   ]
  },
  {
   "cell_type": "code",
   "execution_count": 49,
   "metadata": {},
   "outputs": [
    {
     "data": {
      "image/png": "[encoded data removed]",
      "text/plain": [
       "<matplotlib.figure.Figure at 0x140027b8>"
      ]
     },
     "metadata": {},
     "output_type": "display_data"
    },
    {
     "name": "stdout",
     "output_type": "stream",
     "text": [
      "14.5076471314\n"
     ]
    }
   ],
   "source": [
    "import matplotlib.pyplot as plt\n",
    "plt.plot(cost_value)\n",
    "plt.show()\n",
    "\n",
    "y_predict= np.matmul(test_data, b_est)\n",
    "class2 = sum([y_predict>0.5])\n",
    "class2\n",
    "accuracy2 = sum(class2 == test_label)\n",
    "accuracy_percentage2 = ((float(accuracy2)/len(test_label)*100))\n",
    "accuracy_percentage2\n",
    "\n",
    "\n",
    "print(sum(abs(b_est - b_optimal)))\n"
   ]
  },
  {
   "cell_type": "code",
   "execution_count": null,
   "metadata": {
    "collapsed": true
   },
   "outputs": [],
   "source": []
  }
 ],
 "metadata": {
  "kernelspec": {
   "display_name": "Python 2",
   "language": "python",
   "name": "python2"
  },
  "language_info": {
   "codemirror_mode": {
    "name": "ipython",
    "version": 2
   },
   "file_extension": ".py",
   "mimetype": "text/x-python",
   "name": "python",
   "nbconvert_exporter": "python",
   "pygments_lexer": "ipython2",
   "version": "2.7.14"
  }
 },
 "nbformat": 4,
 "nbformat_minor": 2
}
