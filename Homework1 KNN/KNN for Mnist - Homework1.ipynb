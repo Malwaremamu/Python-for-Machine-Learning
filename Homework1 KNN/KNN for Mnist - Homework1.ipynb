{
 "cells": [
  {
   "cell_type": "code",
   "execution_count": 1,
   "metadata": {
    "collapsed": true
   },
   "outputs": [],
   "source": [
    "import pandas as pd\n",
    "import numpy as np\n",
    "import math\n",
    "from collections import Counter\n",
    "knn_test = pd.read_csv(\"MNIST_test.csv\")\n",
    "knn_train = pd.read_csv(\"MNIST_training.csv\")"
   ]
  },
  {
   "cell_type": "code",
   "execution_count": 2,
   "metadata": {
    "collapsed": true
   },
   "outputs": [],
   "source": [
    "label_training = np.array(knn_train.iloc[:,0]) #Label column for Training data set\n",
    "training_set = np.array(knn_train.iloc[:,1:]) #Training data excluding labels\n",
    "label_test = np.array(knn_test.iloc[:,0]) #label clumn for test data set\n",
    "test_set = np.array(knn_test.iloc[:,1:]) #Test data excluding labels"
   ]
  },
  {
   "cell_type": "code",
   "execution_count": 3,
   "metadata": {
    "collapsed": true
   },
   "outputs": [],
   "source": [
    "def euclidean_distance(a, b): #To calculate the Euclidean Distance\n",
    "    distance = 0\n",
    "    for i in range(len(a)):\n",
    "        distance += pow((a[i] - b[i]),2) #(a-b)*2\n",
    "    distance = math.sqrt(distance) #sqrt[(a-b)*2]\n",
    "    return distance"
   ]
  },
  {
   "cell_type": "code",
   "execution_count": 19,
   "metadata": {},
   "outputs": [
    {
     "name": "stdout",
     "output_type": "stream",
     "text": [
      "[(86, 3), (86, 5), (90, 7), (90, 9), (84, 11)]\n"
     ]
    }
   ],
   "source": [
    "dist = []\n",
    "label_predicted = []\n",
    "kAccuracy = []\n",
    "k = [3, 5, 7, 9 , 11] #K values for prediction\n",
    "for j in range(len(k)):\n",
    "    label_predicted = []\n",
    "    for row1 in range(len(test_set)): \n",
    "        dist = []\n",
    "        for row2 in range(len(training_set)):\n",
    "            d = euclidean_distance(test_set[row1], training_set[row2]) #Calculating euclidean distance between one training set and all the test sets\n",
    "            dist.append((d, label_training[row2]))\n",
    "\n",
    "        sorted_distance = np.array(sorted(dist)) #Sorting the euclidean distance\n",
    "        bingo = sorted_distance[:k[j], 1] #appending with K nearest neighbors \n",
    "        x,y = Counter(bingo).most_common(1)[0] #Deducting label based on maximum number of labels\n",
    "        label_predicted.append(x)\n",
    "    accuracy = (100*sum(label_test == label_predicted))/len(test_set) #Calculating the accuracy for given K values\n",
    "    kAccuracy.append((accuracy, k[j]))\n",
    "print kAccuracy\n",
    "   \n",
    "    "
   ]
  },
  {
   "cell_type": "code",
   "execution_count": null,
   "metadata": {},
   "outputs": [],
   "source": []
  },
  {
   "cell_type": "code",
   "execution_count": null,
   "metadata": {},
   "outputs": [],
   "source": []
  },
  {
   "cell_type": "code",
   "execution_count": null,
   "metadata": {
    "collapsed": true
   },
   "outputs": [],
   "source": []
  },
  {
   "cell_type": "code",
   "execution_count": null,
   "metadata": {
    "collapsed": true
   },
   "outputs": [],
   "source": []
  }
 ],
 "metadata": {
  "kernelspec": {
   "display_name": "Python 2",
   "language": "python",
   "name": "python2"
  },
  "language_info": {
   "codemirror_mode": {
    "name": "ipython",
    "version": 2
   },
   "file_extension": ".py",
   "mimetype": "text/x-python",
   "name": "python",
   "nbconvert_exporter": "python",
   "pygments_lexer": "ipython2",
   "version": "2.7.14"
  }
 },
 "nbformat": 4,
 "nbformat_minor": 2
}
